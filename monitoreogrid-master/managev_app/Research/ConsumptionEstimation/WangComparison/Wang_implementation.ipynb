<google_sdk>{
 "cells": [
  {
   "cell_type": "code",
   "execution_count": 1,
   "source": [
    "import pandas as pd\n",
    "import plotly.graph_objects as go\n",
    "from app import app\n",
    "from app.Develops.Google import google_linear_model as google_query\n",
    "import os\n",
    "import datetime\n",
    "import pytz\n",
    "import googlemaps\n",
    "\n"
   ],
   "outputs": [
    {
     "output_type": "stream",
     "name": "stdout",
     "text": [
      "Empezando a cargar \n",
      "termina de cargar \n"
     ]
    }
   ],
   "metadata": {}
  },
  {
   "cell_type": "code",
   "execution_count": 14,
   "source": [
    "ke\n",
    "gmaps = googlemaps.Client(key='<google_sdk>')\n",
    "\n",
    "path = os.path.join(app.root_path) + '/Develops/Consumption_estimation_Journal'\n",
    "now = datetime.datetime.now(pytz.timezone('America/Bogota'))\n",
    "test_date = datetime.datetime.strptime('2020-08-12 10:26:45', '%Y-%m-%d %H:%M:%S')\n",
    "a = gmaps.directions(origin=(6.201123674133, -75.5757960580202),\n",
    "                     destination=(6.1976485409797535, -75.55707688749959),\n",
    "                     mode='driving', alternatives=False, departure_time=now, traffic_model='optimistic')\n",
    "\n",
    "df = google_query.get_segments(a)"
   ],
   "outputs": [
    {
     "output_type": "display_data",
     "data": {
      "text/html": [
       "<div>                            <div id=\"0490cb36-3784-4932-976f-1bf218768c0a\" class=\"plotly-graph-div\" style=\"height:525px; width:100%;\"></div>            <script type=\"text/javascript\">                require([\"plotly\"], function(Plotly) {                    window.PLOTLYENV=window.PLOTLYENV || {};                                    if (document.getElementById(\"0490cb36-3784-4932-976f-1bf218768c0a\")) {                    Plotly.newPlot(                        \"0490cb36-3784-4932-976f-1bf218768c0a\",                        [{\"lat\": [6.200958515307804, 6.200809999999999, 6.20081, 6.200493911025462, 6.200183600732144, 6.199871800381789, 6.19956, 6.19956, 6.199209428835161, 6.198895946693669, 6.19860288904935, 6.198389562204037, 6.198119999999999, 6.19812, 6.197713380363928, 6.197309328435641, 6.196902880101771, 6.196522962571163, 6.196199999999998, 6.1962, 6.195933312825001, 6.195674039140631, 6.195388980326304, 6.19513, 6.19513, 6.194533966862923, 6.193740385900728, 6.193047632885031, 6.192304222658569, 6.192035454354955, 6.191916120801475, 6.191470805715126, 6.190564291924063, 6.189256633059919, 6.1881, 6.1881, 6.187636460075298, 6.187255265363812, 6.186872446047709, 6.186788975748683, 6.186857750197508, 6.186940000000001, 6.18694, 6.187162023150163, 6.188308887360711, 6.189474384572581, 6.190631065778328, 6.191727883574616, 6.192745508026931, 6.193753870266561, 6.194496641032728, 6.195570633804357, 6.196539999999997, 6.19654, 6.196831621783903, 6.1971002608608, 6.197366650342996, 6.197629999999999, 6.197631899999999], \"lon\": [-75.575796138486, -75.57585000000002, -75.57585, -75.57596853338563, -75.5761009658638, -75.57623048300847, -75.57636000000001, -75.57636, -75.57640194288321, -75.57623356801544, -75.57602859269862, -75.5757413870825, -75.57552000000001, -75.57552, -75.57551, -75.57552606715689, -75.57552605176993, -75.57541296256909, -75.57516999999999, -75.57517, -75.57497331282457, -75.5747630293549, -75.57459949015895, -75.57438999999998, -75.57439, -75.57316194200158, -75.57205613146928, -75.57088139412741, -75.5698510556645, -75.56881454607165, -75.56751407882551, -75.56622295428747, -75.565255342262, -75.56496848790418, -75.56442999999994, -75.56443, -75.56408246846445, -75.56364702048072, -75.56321611511844, -75.5626508448075, -75.56207249808446, -75.5615, -75.5615, -75.5616191907521, -75.56126022253366, -75.56095890387287, -75.56062536630819, -75.56014474429385, -75.55960775401272, -75.55974064868975, -75.55898222649652, -75.55847712727801, -75.55775999999996, -75.55776, -75.55761650228132, -75.55743102263742, -75.55724239262042, -75.55705, -75.5570539], \"marker\": {\"size\": 10}, \"mode\": \"markers+lines\", \"type\": \"scattermapbox\"}],                        {\"mapbox\": {\"center\": {\"lat\": 6.151, \"lon\": -75.58}, \"style\": \"stamen-terrain\", \"zoom\": 10}, \"margin\": {\"b\": 0, \"l\": 0, \"r\": 0, \"t\": 0}, \"template\": {\"data\": {\"bar\": [{\"error_x\": {\"color\": \"#2a3f5f\"}, \"error_y\": {\"color\": \"#2a3f5f\"}, \"marker\": {\"line\": {\"color\": \"#E5ECF6\", \"width\": 0.5}}, \"type\": \"bar\"}], \"barpolar\": [{\"marker\": {\"line\": {\"color\": \"#E5ECF6\", \"width\": 0.5}}, \"type\": \"barpolar\"}], \"carpet\": [{\"aaxis\": {\"endlinecolor\": \"#2a3f5f\", \"gridcolor\": \"white\", \"linecolor\": \"white\", \"minorgridcolor\": \"white\", \"startlinecolor\": \"#2a3f5f\"}, \"baxis\": {\"endlinecolor\": \"#2a3f5f\", \"gridcolor\": \"white\", \"linecolor\": \"white\", \"minorgridcolor\": \"white\", \"startlinecolor\": \"#2a3f5f\"}, \"type\": \"carpet\"}], \"choropleth\": [{\"colorbar\": {\"outlinewidth\": 0, \"ticks\": \"\"}, \"type\": \"choropleth\"}], \"contour\": [{\"colorbar\": {\"outlinewidth\": 0, \"ticks\": \"\"}, \"colorscale\": [[0.0, \"#0d0887\"], [0.1111111111111111, \"#46039f\"], [0.2222222222222222, \"#7201a8\"], [0.3333333333333333, \"#9c179e\"], [0.4444444444444444, \"#bd3786\"], [0.5555555555555556, \"#d8576b\"], [0.6666666666666666, \"#ed7953\"], [0.7777777777777778, \"#fb9f3a\"], [0.8888888888888888, \"#fdca26\"], [1.0, \"#f0f921\"]], \"type\": \"contour\"}], \"contourcarpet\": [{\"colorbar\": {\"outlinewidth\": 0, \"ticks\": \"\"}, \"type\": \"contourcarpet\"}], \"heatmap\": [{\"colorbar\": {\"outlinewidth\": 0, \"ticks\": \"\"}, \"colorscale\": [[0.0, \"#0d0887\"], [0.1111111111111111, \"#46039f\"], [0.2222222222222222, \"#7201a8\"], [0.3333333333333333, \"#9c179e\"], [0.4444444444444444, \"#bd3786\"], [0.5555555555555556, \"#d8576b\"], [0.6666666666666666, \"#ed7953\"], [0.7777777777777778, \"#fb9f3a\"], [0.8888888888888888, \"#fdca26\"], [1.0, \"#f0f921\"]], \"type\": \"heatmap\"}], \"heatmapgl\": [{\"colorbar\": {\"outlinewidth\": 0, \"ticks\": \"\"}, \"colorscale\": [[0.0, \"#0d0887\"], [0.1111111111111111, \"#46039f\"], [0.2222222222222222, \"#7201a8\"], [0.3333333333333333, \"#9c179e\"], [0.4444444444444444, \"#bd3786\"], [0.5555555555555556, \"#d8576b\"], [0.6666666666666666, \"#ed7953\"], [0.7777777777777778, \"#fb9f3a\"], [0.8888888888888888, \"#fdca26\"], [1.0, \"#f0f921\"]], \"type\": \"heatmapgl\"}], \"histogram\": [{\"marker\": {\"colorbar\": {\"outlinewidth\": 0, \"ticks\": \"\"}}, \"type\": \"histogram\"}], \"histogram2d\": [{\"colorbar\": {\"outlinewidth\": 0, \"ticks\": \"\"}, \"colorscale\": [[0.0, \"#0d0887\"], [0.1111111111111111, \"#46039f\"], [0.2222222222222222, \"#7201a8\"], [0.3333333333333333, \"#9c179e\"], [0.4444444444444444, \"#bd3786\"], [0.5555555555555556, \"#d8576b\"], [0.6666666666666666, \"#ed7953\"], [0.7777777777777778, \"#fb9f3a\"], [0.8888888888888888, \"#fdca26\"], [1.0, \"#f0f921\"]], \"type\": \"histogram2d\"}], \"histogram2dcontour\": [{\"colorbar\": {\"outlinewidth\": 0, \"ticks\": \"\"}, \"colorscale\": [[0.0, \"#0d0887\"], [0.1111111111111111, \"#46039f\"], [0.2222222222222222, \"#7201a8\"], [0.3333333333333333, \"#9c179e\"], [0.4444444444444444, \"#bd3786\"], [0.5555555555555556, \"#d8576b\"], [0.6666666666666666, \"#ed7953\"], [0.7777777777777778, \"#fb9f3a\"], [0.8888888888888888, \"#fdca26\"], [1.0, \"#f0f921\"]], \"type\": \"histogram2dcontour\"}], \"mesh3d\": [{\"colorbar\": {\"outlinewidth\": 0, \"ticks\": \"\"}, \"type\": \"mesh3d\"}], \"parcoords\": [{\"line\": {\"colorbar\": {\"outlinewidth\": 0, \"ticks\": \"\"}}, \"type\": \"parcoords\"}], \"pie\": [{\"automargin\": true, \"type\": \"pie\"}], \"scatter\": [{\"marker\": {\"colorbar\": {\"outlinewidth\": 0, \"ticks\": \"\"}}, \"type\": \"scatter\"}], \"scatter3d\": [{\"line\": {\"colorbar\": {\"outlinewidth\": 0, \"ticks\": \"\"}}, \"marker\": {\"colorbar\": {\"outlinewidth\": 0, \"ticks\": \"\"}}, \"type\": \"scatter3d\"}], \"scattercarpet\": [{\"marker\": {\"colorbar\": {\"outlinewidth\": 0, \"ticks\": \"\"}}, \"type\": \"scattercarpet\"}], \"scattergeo\": [{\"marker\": {\"colorbar\": {\"outlinewidth\": 0, \"ticks\": \"\"}}, \"type\": \"scattergeo\"}], \"scattergl\": [{\"marker\": {\"colorbar\": {\"outlinewidth\": 0, \"ticks\": \"\"}}, \"type\": \"scattergl\"}], \"scattermapbox\": [{\"marker\": {\"colorbar\": {\"outlinewidth\": 0, \"ticks\": \"\"}}, \"type\": \"scattermapbox\"}], \"scatterpolar\": [{\"marker\": {\"colorbar\": {\"outlinewidth\": 0, \"ticks\": \"\"}}, \"type\": \"scatterpolar\"}], \"scatterpolargl\": [{\"marker\": {\"colorbar\": {\"outlinewidth\": 0, \"ticks\": \"\"}}, \"type\": \"scatterpolargl\"}], \"scatterternary\": [{\"marker\": {\"colorbar\": {\"outlinewidth\": 0, \"ticks\": \"\"}}, \"type\": \"scatterternary\"}], \"surface\": [{\"colorbar\": {\"outlinewidth\": 0, \"ticks\": \"\"}, \"colorscale\": [[0.0, \"#0d0887\"], [0.1111111111111111, \"#46039f\"], [0.2222222222222222, \"#7201a8\"], [0.3333333333333333, \"#9c179e\"], [0.4444444444444444, \"#bd3786\"], [0.5555555555555556, \"#d8576b\"], [0.6666666666666666, \"#ed7953\"], [0.7777777777777778, \"#fb9f3a\"], [0.8888888888888888, \"#fdca26\"], [1.0, \"#f0f921\"]], \"type\": \"surface\"}], \"table\": [{\"cells\": {\"fill\": {\"color\": \"#EBF0F8\"}, \"line\": {\"color\": \"white\"}}, \"header\": {\"fill\": {\"color\": \"#C8D4E3\"}, \"line\": {\"color\": \"white\"}}, \"type\": \"table\"}]}, \"layout\": {\"annotationdefaults\": {\"arrowcolor\": \"#2a3f5f\", \"arrowhead\": 0, \"arrowwidth\": 1}, \"autotypenumbers\": \"strict\", \"coloraxis\": {\"colorbar\": {\"outlinewidth\": 0, \"ticks\": \"\"}}, \"colorscale\": {\"diverging\": [[0, \"#8e0152\"], [0.1, \"#c51b7d\"], [0.2, \"#de77ae\"], [0.3, \"#f1b6da\"], [0.4, \"#fde0ef\"], [0.5, \"#f7f7f7\"], [0.6, \"#e6f5d0\"], [0.7, \"#b8e186\"], [0.8, \"#7fbc41\"], [0.9, \"#4d9221\"], [1, \"#276419\"]], \"sequential\": [[0.0, \"#0d0887\"], [0.1111111111111111, \"#46039f\"], [0.2222222222222222, \"#7201a8\"], [0.3333333333333333, \"#9c179e\"], [0.4444444444444444, \"#bd3786\"], [0.5555555555555556, \"#d8576b\"], [0.6666666666666666, \"#ed7953\"], [0.7777777777777778, \"#fb9f3a\"], [0.8888888888888888, \"#fdca26\"], [1.0, \"#f0f921\"]], \"sequentialminus\": [[0.0, \"#0d0887\"], [0.1111111111111111, \"#46039f\"], [0.2222222222222222, \"#7201a8\"], [0.3333333333333333, \"#9c179e\"], [0.4444444444444444, \"#bd3786\"], [0.5555555555555556, \"#d8576b\"], [0.6666666666666666, \"#ed7953\"], [0.7777777777777778, \"#fb9f3a\"], [0.8888888888888888, \"#fdca26\"], [1.0, \"#f0f921\"]]}, \"colorway\": [\"#636efa\", \"#EF553B\", \"#00cc96\", \"#ab63fa\", \"#FFA15A\", \"#19d3f3\", \"#FF6692\", \"#B6E880\", \"#FF97FF\", \"#FECB52\"], \"font\": {\"color\": \"#2a3f5f\"}, \"geo\": {\"bgcolor\": \"white\", \"lakecolor\": \"white\", \"landcolor\": \"#E5ECF6\", \"showlakes\": true, \"showland\": true, \"subunitcolor\": \"white\"}, \"hoverlabel\": {\"align\": \"left\"}, \"hovermode\": \"closest\", \"mapbox\": {\"style\": \"light\"}, \"paper_bgcolor\": \"white\", \"plot_bgcolor\": \"#E5ECF6\", \"polar\": {\"angularaxis\": {\"gridcolor\": \"white\", \"linecolor\": \"white\", \"ticks\": \"\"}, \"bgcolor\": \"#E5ECF6\", \"radialaxis\": {\"gridcolor\": \"white\", \"linecolor\": \"white\", \"ticks\": \"\"}}, \"scene\": {\"xaxis\": {\"backgroundcolor\": \"#E5ECF6\", \"gridcolor\": \"white\", \"gridwidth\": 2, \"linecolor\": \"white\", \"showbackground\": true, \"ticks\": \"\", \"zerolinecolor\": \"white\"}, \"yaxis\": {\"backgroundcolor\": \"#E5ECF6\", \"gridcolor\": \"white\", \"gridwidth\": 2, \"linecolor\": \"white\", \"showbackground\": true, \"ticks\": \"\", \"zerolinecolor\": \"white\"}, \"zaxis\": {\"backgroundcolor\": \"#E5ECF6\", \"gridcolor\": \"white\", \"gridwidth\": 2, \"linecolor\": \"white\", \"showbackground\": true, \"ticks\": \"\", \"zerolinecolor\": \"white\"}}, \"shapedefaults\": {\"line\": {\"color\": \"#2a3f5f\"}}, \"ternary\": {\"aaxis\": {\"gridcolor\": \"white\", \"linecolor\": \"white\", \"ticks\": \"\"}, \"baxis\": {\"gridcolor\": \"white\", \"linecolor\": \"white\", \"ticks\": \"\"}, \"bgcolor\": \"#E5ECF6\", \"caxis\": {\"gridcolor\": \"white\", \"linecolor\": \"white\", \"ticks\": \"\"}}, \"title\": {\"x\": 0.05}, \"xaxis\": {\"automargin\": true, \"gridcolor\": \"white\", \"linecolor\": \"white\", \"ticks\": \"\", \"title\": {\"standoff\": 15}, \"zerolinecolor\": \"white\", \"zerolinewidth\": 2}, \"yaxis\": {\"automargin\": true, \"gridcolor\": \"white\", \"linecolor\": \"white\", \"ticks\": \"\", \"title\": {\"standoff\": 15}, \"zerolinecolor\": \"white\", \"zerolinewidth\": 2}}}},                        {\"responsive\": true}                    ).then(function(){\n",
       "                            \n",
       "var gd = document.getElementById('0490cb36-3784-4932-976f-1bf218768c0a');\n",
       "var x = new MutationObserver(function (mutations, observer) {{\n",
       "        var display = window.getComputedStyle(gd).display;\n",
       "        if (!display || display === 'none') {{\n",
       "            console.log([gd, 'removed!']);\n",
       "            Plotly.purge(gd);\n",
       "            observer.disconnect();\n",
       "        }}\n",
       "}});\n",
       "\n",
       "// Listen for the removal of the full notebook cells\n",
       "var notebookContainer = gd.closest('#notebook-container');\n",
       "if (notebookContainer) {{\n",
       "    x.observe(notebookContainer, {childList: true});\n",
       "}}\n",
       "\n",
       "// Listen for the clearing of the current output cell\n",
       "var outputEl = gd.closest('.output');\n",
       "if (outputEl) {{\n",
       "    x.observe(outputEl, {childList: true});\n",
       "}}\n",
       "\n",
       "                        })                };                });            </script>        </div>"
      ],
      "application/vnd.plotly.v1+json": {
       "config": {
        "plotlyServerURL": "https://plot.ly"
       },
       "data": [
        {
         "lat": [
          6.200958515307804,
          6.200809999999999,
          6.20081,
          6.200493911025462,
          6.200183600732144,
          6.199871800381789,
          6.19956,
          6.19956,
          6.199209428835161,
          6.198895946693669,
          6.19860288904935,
          6.198389562204037,
          6.198119999999999,
          6.19812,
          6.197713380363928,
          6.197309328435641,
          6.196902880101771,
          6.196522962571163,
          6.196199999999998,
          6.1962,
          6.195933312825001,
          6.195674039140631,
          6.195388980326304,
          6.19513,
          6.19513,
          6.194533966862923,
          6.193740385900728,
          6.193047632885031,
          6.192304222658569,
          6.192035454354955,
          6.191916120801475,
          6.191470805715126,
          6.190564291924063,
          6.189256633059919,
          6.1881,
          6.1881,
          6.187636460075298,
          6.187255265363812,
          6.186872446047709,
          6.186788975748683,
          6.186857750197508,
          6.186940000000001,
          6.18694,
          6.187162023150163,
          6.188308887360711,
          6.189474384572581,
          6.190631065778328,
          6.191727883574616,
          6.192745508026931,
          6.193753870266561,
          6.194496641032728,
          6.195570633804357,
          6.196539999999997,
          6.19654,
          6.196831621783903,
          6.1971002608608,
          6.197366650342996,
          6.197629999999999,
          6.197631899999999
         ],
         "lon": [
          -75.575796138486,
          -75.57585000000002,
          -75.57585,
          -75.57596853338563,
          -75.5761009658638,
          -75.57623048300847,
          -75.57636000000001,
          -75.57636,
          -75.57640194288321,
          -75.57623356801544,
          -75.57602859269862,
          -75.5757413870825,
          -75.57552000000001,
          -75.57552,
          -75.57551,
          -75.57552606715689,
          -75.57552605176993,
          -75.57541296256909,
          -75.57516999999999,
          -75.57517,
          -75.57497331282457,
          -75.5747630293549,
          -75.57459949015895,
          -75.57438999999998,
          -75.57439,
          -75.57316194200158,
          -75.57205613146928,
          -75.57088139412741,
          -75.5698510556645,
          -75.56881454607165,
          -75.56751407882551,
          -75.56622295428747,
          -75.565255342262,
          -75.56496848790418,
          -75.56442999999994,
          -75.56443,
          -75.56408246846445,
          -75.56364702048072,
          -75.56321611511844,
          -75.5626508448075,
          -75.56207249808446,
          -75.5615,
          -75.5615,
          -75.5616191907521,
          -75.56126022253366,
          -75.56095890387287,
          -75.56062536630819,
          -75.56014474429385,
          -75.55960775401272,
          -75.55974064868975,
          -75.55898222649652,
          -75.55847712727801,
          -75.55775999999996,
          -75.55776,
          -75.55761650228132,
          -75.55743102263742,
          -75.55724239262042,
          -75.55705,
          -75.5570539
         ],
         "marker": {
          "size": 10
         },
         "mode": "markers+lines",
         "type": "scattermapbox"
        }
       ],
       "layout": {
        "mapbox": {
         "center": {
          "lat": 6.151,
          "lon": -75.58
         },
         "style": "stamen-terrain",
         "zoom": 10
        },
        "margin": {
         "b": 0,
         "l": 0,
         "r": 0,
         "t": 0
        },
        "template": {
         "data": {
          "bar": [
           {
            "error_x": {
             "color": "#2a3f5f"
            },
            "error_y": {
             "color": "#2a3f5f"
            },
            "marker": {
             "line": {
              "color": "#E5ECF6",
              "width": 0.5
             }
            },
            "type": "bar"
           }
          ],
          "barpolar": [
           {
            "marker": {
             "line": {
              "color": "#E5ECF6",
              "width": 0.5
             }
            },
            "type": "barpolar"
           }
          ],
          "carpet": [
           {
            "aaxis": {
             "endlinecolor": "#2a3f5f",
             "gridcolor": "white",
             "linecolor": "white",
             "minorgridcolor": "white",
             "startlinecolor": "#2a3f5f"
            },
            "baxis": {
             "endlinecolor": "#2a3f5f",
             "gridcolor": "white",
             "linecolor": "white",
             "minorgridcolor": "white",
             "startlinecolor": "#2a3f5f"
            },
            "type": "carpet"
           }
          ],
          "choropleth": [
           {
            "colorbar": {
             "outlinewidth": 0,
             "ticks": ""
            },
            "type": "choropleth"
           }
          ],
          "contour": [
           {
            "colorbar": {
             "outlinewidth": 0,
             "ticks": ""
            },
            "colorscale": [
             [
              0,
              "#0d0887"
             ],
             [
              0.1111111111111111,
              "#46039f"
             ],
             [
              0.2222222222222222,
              "#7201a8"
             ],
             [
              0.3333333333333333,
              "#9c179e"
             ],
             [
              0.4444444444444444,
              "#bd3786"
             ],
             [
              0.5555555555555556,
              "#d8576b"
             ],
             [
              0.6666666666666666,
              "#ed7953"
             ],
             [
              0.7777777777777778,
              "#fb9f3a"
             ],
             [
              0.8888888888888888,
              "#fdca26"
             ],
             [
              1,
              "#f0f921"
             ]
            ],
            "type": "contour"
           }
          ],
          "contourcarpet": [
           {
            "colorbar": {
             "outlinewidth": 0,
             "ticks": ""
            },
            "type": "contourcarpet"
           }
          ],
          "heatmap": [
           {
            "colorbar": {
             "outlinewidth": 0,
             "ticks": ""
            },
            "colorscale": [
             [
              0,
              "#0d0887"
             ],
             [
              0.1111111111111111,
              "#46039f"
             ],
             [
              0.2222222222222222,
              "#7201a8"
             ],
             [
              0.3333333333333333,
              "#9c179e"
             ],
             [
              0.4444444444444444,
              "#bd3786"
             ],
             [
              0.5555555555555556,
              "#d8576b"
             ],
             [
              0.6666666666666666,
              "#ed7953"
             ],
             [
              0.7777777777777778,
              "#fb9f3a"
             ],
             [
              0.8888888888888888,
              "#fdca26"
             ],
             [
              1,
              "#f0f921"
             ]
            ],
            "type": "heatmap"
           }
          ],
          "heatmapgl": [
           {
            "colorbar": {
             "outlinewidth": 0,
             "ticks": ""
            },
            "colorscale": [
             [
              0,
              "#0d0887"
             ],
             [
              0.1111111111111111,
              "#46039f"
             ],
             [
              0.2222222222222222,
              "#7201a8"
             ],
             [
              0.3333333333333333,
              "#9c179e"
             ],
             [
              0.4444444444444444,
              "#bd3786"
             ],
             [
              0.5555555555555556,
              "#d8576b"
             ],
             [
              0.6666666666666666,
              "#ed7953"
             ],
             [
              0.7777777777777778,
              "#fb9f3a"
             ],
             [
              0.8888888888888888,
              "#fdca26"
             ],
             [
              1,
              "#f0f921"
             ]
            ],
            "type": "heatmapgl"
           }
          ],
          "histogram": [
           {
            "marker": {
             "colorbar": {
              "outlinewidth": 0,
              "ticks": ""
             }
            },
            "type": "histogram"
           }
          ],
          "histogram2d": [
           {
            "colorbar": {
             "outlinewidth": 0,
             "ticks": ""
            },
            "colorscale": [
             [
              0,
              "#0d0887"
             ],
             [
              0.1111111111111111,
              "#46039f"
             ],
             [
              0.2222222222222222,
              "#7201a8"
             ],
             [
              0.3333333333333333,
              "#9c179e"
             ],
             [
              0.4444444444444444,
              "#bd3786"
             ],
             [
              0.5555555555555556,
              "#d8576b"
             ],
             [
              0.6666666666666666,
              "#ed7953"
             ],
             [
              0.7777777777777778,
              "#fb9f3a"
             ],
             [
              0.8888888888888888,
              "#fdca26"
             ],
             [
              1,
              "#f0f921"
             ]
            ],
            "type": "histogram2d"
           }
          ],
          "histogram2dcontour": [
           {
            "colorbar": {
             "outlinewidth": 0,
             "ticks": ""
            },
            "colorscale": [
             [
              0,
              "#0d0887"
             ],
             [
              0.1111111111111111,
              "#46039f"
             ],
             [
              0.2222222222222222,
              "#7201a8"
             ],
             [
              0.3333333333333333,
              "#9c179e"
             ],
             [
              0.4444444444444444,
              "#bd3786"
             ],
             [
              0.5555555555555556,
              "#d8576b"
             ],
             [
              0.6666666666666666,
              "#ed7953"
             ],
             [
              0.7777777777777778,
              "#fb9f3a"
             ],
             [
              0.8888888888888888,
              "#fdca26"
             ],
             [
              1,
              "#f0f921"
             ]
            ],
            "type": "histogram2dcontour"
           }
          ],
          "mesh3d": [
           {
            "colorbar": {
             "outlinewidth": 0,
             "ticks": ""
            },
            "type": "mesh3d"
           }
          ],
          "parcoords": [
           {
            "line": {
             "colorbar": {
              "outlinewidth": 0,
              "ticks": ""
             }
            },
            "type": "parcoords"
           }
          ],
          "pie": [
           {
            "automargin": true,
            "type": "pie"
           }
          ],
          "scatter": [
           {
            "marker": {
             "colorbar": {
              "outlinewidth": 0,
              "ticks": ""
             }
            },
            "type": "scatter"
           }
          ],
          "scatter3d": [
           {
            "line": {
             "colorbar": {
              "outlinewidth": 0,
              "ticks": ""
             }
            },
            "marker": {
             "colorbar": {
              "outlinewidth": 0,
              "ticks": ""
             }
            },
            "type": "scatter3d"
           }
          ],
          "scattercarpet": [
           {
            "marker": {
             "colorbar": {
              "outlinewidth": 0,
              "ticks": ""
             }
            },
            "type": "scattercarpet"
           }
          ],
          "scattergeo": [
           {
            "marker": {
             "colorbar": {
              "outlinewidth": 0,
              "ticks": ""
             }
            },
            "type": "scattergeo"
           }
          ],
          "scattergl": [
           {
            "marker": {
             "colorbar": {
              "outlinewidth": 0,
              "ticks": ""
             }
            },
            "type": "scattergl"
           }
          ],
          "scattermapbox": [
           {
            "marker": {
             "colorbar": {
              "outlinewidth": 0,
              "ticks": ""
             }
            },
            "type": "scattermapbox"
           }
          ],
          "scatterpolar": [
           {
            "marker": {
             "colorbar": {
              "outlinewidth": 0,
              "ticks": ""
             }
            },
            "type": "scatterpolar"
           }
          ],
          "scatterpolargl": [
           {
            "marker": {
             "colorbar": {
              "outlinewidth": 0,
              "ticks": ""
             }
            },
            "type": "scatterpolargl"
           }
          ],
          "scatterternary": [
           {
            "marker": {
             "colorbar": {
              "outlinewidth": 0,
              "ticks": ""
             }
            },
            "type": "scatterternary"
           }
          ],
          "surface": [
           {
            "colorbar": {
             "outlinewidth": 0,
             "ticks": ""
            },
            "colorscale": [
             [
              0,
              "#0d0887"
             ],
             [
              0.1111111111111111,
              "#46039f"
             ],
             [
              0.2222222222222222,
              "#7201a8"
             ],
             [
              0.3333333333333333,
              "#9c179e"
             ],
             [
              0.4444444444444444,
              "#bd3786"
             ],
             [
              0.5555555555555556,
              "#d8576b"
             ],
             [
              0.6666666666666666,
              "#ed7953"
             ],
             [
              0.7777777777777778,
              "#fb9f3a"
             ],
             [
              0.8888888888888888,
              "#fdca26"
             ],
             [
              1,
              "#f0f921"
             ]
            ],
            "type": "surface"
           }
          ],
          "table": [
           {
            "cells": {
             "fill": {
              "color": "#EBF0F8"
             },
             "line": {
              "color": "white"
             }
            },
            "header": {
             "fill": {
              "color": "#C8D4E3"
             },
             "line": {
              "color": "white"
             }
            },
            "type": "table"
           }
          ]
         },
         "layout": {
          "annotationdefaults": {
           "arrowcolor": "#2a3f5f",
           "arrowhead": 0,
           "arrowwidth": 1
          },
          "autotypenumbers": "strict",
          "coloraxis": {
           "colorbar": {
            "outlinewidth": 0,
            "ticks": ""
           }
          },
          "colorscale": {
           "diverging": [
            [
             0,
             "#8e0152"
            ],
            [
             0.1,
             "#c51b7d"
            ],
            [
             0.2,
             "#de77ae"
            ],
            [
             0.3,
             "#f1b6da"
            ],
            [
             0.4,
             "#fde0ef"
            ],
            [
             0.5,
             "#f7f7f7"
            ],
            [
             0.6,
             "#e6f5d0"
            ],
            [
             0.7,
             "#b8e186"
            ],
            [
             0.8,
             "#7fbc41"
            ],
            [
             0.9,
             "#4d9221"
            ],
            [
             1,
             "#276419"
            ]
           ],
           "sequential": [
            [
             0,
             "#0d0887"
            ],
            [
             0.1111111111111111,
             "#46039f"
            ],
            [
             0.2222222222222222,
             "#7201a8"
            ],
            [
             0.3333333333333333,
             "#9c179e"
            ],
            [
             0.4444444444444444,
             "#bd3786"
            ],
            [
             0.5555555555555556,
             "#d8576b"
            ],
            [
             0.6666666666666666,
             "#ed7953"
            ],
            [
             0.7777777777777778,
             "#fb9f3a"
            ],
            [
             0.8888888888888888,
             "#fdca26"
            ],
            [
             1,
             "#f0f921"
            ]
           ],
           "sequentialminus": [
            [
             0,
             "#0d0887"
            ],
            [
             0.1111111111111111,
             "#46039f"
            ],
            [
             0.2222222222222222,
             "#7201a8"
            ],
            [
             0.3333333333333333,
             "#9c179e"
            ],
            [
             0.4444444444444444,
             "#bd3786"
            ],
            [
             0.5555555555555556,
             "#d8576b"
            ],
            [
             0.6666666666666666,
             "#ed7953"
            ],
            [
             0.7777777777777778,
             "#fb9f3a"
            ],
            [
             0.8888888888888888,
             "#fdca26"
            ],
            [
             1,
             "#f0f921"
            ]
           ]
          },
          "colorway": [
           "#636efa",
           "#EF553B",
           "#00cc96",
           "#ab63fa",
           "#FFA15A",
           "#19d3f3",
           "#FF6692",
           "#B6E880",
           "#FF97FF",
           "#FECB52"
          ],
          "font": {
           "color": "#2a3f5f"
          },
          "geo": {
           "bgcolor": "white",
           "lakecolor": "white",
           "landcolor": "#E5ECF6",
           "showlakes": true,
           "showland": true,
           "subunitcolor": "white"
          },
          "hoverlabel": {
           "align": "left"
          },
          "hovermode": "closest",
          "mapbox": {
           "style": "light"
          },
          "paper_bgcolor": "white",
          "plot_bgcolor": "#E5ECF6",
          "polar": {
           "angularaxis": {
            "gridcolor": "white",
            "linecolor": "white",
            "ticks": ""
           },
           "bgcolor": "#E5ECF6",
           "radialaxis": {
            "gridcolor": "white",
            "linecolor": "white",
            "ticks": ""
           }
          },
          "scene": {
           "xaxis": {
            "backgroundcolor": "#E5ECF6",
            "gridcolor": "white",
            "gridwidth": 2,
            "linecolor": "white",
            "showbackground": true,
            "ticks": "",
            "zerolinecolor": "white"
           },
           "yaxis": {
            "backgroundcolor": "#E5ECF6",
            "gridcolor": "white",
            "gridwidth": 2,
            "linecolor": "white",
            "showbackground": true,
            "ticks": "",
            "zerolinecolor": "white"
           },
           "zaxis": {
            "backgroundcolor": "#E5ECF6",
            "gridcolor": "white",
            "gridwidth": 2,
            "linecolor": "white",
            "showbackground": true,
            "ticks": "",
            "zerolinecolor": "white"
           }
          },
          "shapedefaults": {
           "line": {
            "color": "#2a3f5f"
           }
          },
          "ternary": {
           "aaxis": {
            "gridcolor": "white",
            "linecolor": "white",
            "ticks": ""
           },
           "baxis": {
            "gridcolor": "white",
            "linecolor": "white",
            "ticks": ""
           },
           "bgcolor": "#E5ECF6",
           "caxis": {
            "gridcolor": "white",
            "linecolor": "white",
            "ticks": ""
           }
          },
          "title": {
           "x": 0.05
          },
          "xaxis": {
           "automargin": true,
           "gridcolor": "white",
           "linecolor": "white",
           "ticks": "",
           "title": {
            "standoff": 15
           },
           "zerolinecolor": "white",
           "zerolinewidth": 2
          },
          "yaxis": {
           "automargin": true,
           "gridcolor": "white",
           "linecolor": "white",
           "ticks": "",
           "title": {
            "standoff": 15
           },
           "zerolinecolor": "white",
           "zerolinewidth": 2
          }
         }
        }
       }
      }
     },
     "metadata": {}
    }
   ],
   "metadata": {}
  },
  {
   "cell_type": "code",
   "execution_count": 87,
   "source": [
    "import numpy as np\n",
    "\n",
    "df['m'] = df['kms'] * 10**3\n",
    "vars = df[[ 'slope', 'travel_time', 'mean_speed', 'm']]\n",
    "\n",
    "v_i = 10\n",
    "acc = 1.5  # 5.1 zoe\n",
    "acc_fr = -2\n",
    "frontal_area = 2.43\n",
    "cd = 0.31\n",
    "mass = 1568  # con Santiago manejando\n",
    "consumption = []\n",
    "consumption2 = []\n",
    "\n",
    "for index,row in vars.iterrows():\n",
    "    # m/s\n",
    "    nominal_speed = row['mean_speed'] / 3.6\n",
    "    print('nominal_speed =', nominal_speed)\n",
    "    print('v_i =', v_i)\n",
    "    if v_i < nominal_speed:\n",
    "        a = acc\n",
    "        print('a =', a)\n",
    "        v_f = np.sqrt(v_i ** 2 + 2 * a * row['m'])\n",
    "        v_f = min([v_f, nominal_speed])\n",
    "        \n",
    "    elif v_i == nominal_speed:\n",
    "        v_f = nominal_speed\n",
    "        a = 0\n",
    "        print('a =', a)\n",
    "        \n",
    "    else:\n",
    "        a = acc_fr\n",
    "        print('a =', a)\n",
    "        v_f = np.sqrt(v_i ** 2 + 2 * a * row['m'])\n",
    "        v_f = v_f if v_f == v_f else nominal_speed # si es nan\n",
    "        v_f = max([v_f, nominal_speed])\n",
    "     \n",
    "    print('v_f =', v_f)\n",
    "    mean_speed = np.mean([v_i, v_f])\n",
    "    \n",
    "    # m/s\n",
    "    print('mean_speed =', mean_speed)\n",
    "    \n",
    "    # seconds\n",
    "    t =  row['m'] / mean_speed\n",
    "    print('t =', t)\n",
    "    dv = (v_f - v_i)\n",
    "    \n",
    "    print('dv/t =', dv/t)\n",
    "    \n",
    "    \n",
    "    # Force calculation\n",
    "    p = 1.2  # Air density kg/m3\n",
    "    cr = 0.01 * (1 + mean_speed/(100))  # Rolling coefficient 1\n",
    "    bar = 30/14.504\n",
    "    cr2 = 0.005 + (1 / bar)*(0.01 + 0.0095*(mean_speed / 100)**2)  # Rolling coefficient 2\n",
    "    n_drive = 0.97  # transmission efficiency\n",
    "    n_motor = 0.97  # Motor efficiency\n",
    "    n_batt = 0.95  # Battery efficiency\n",
    "    k = 0   # speed factor\n",
    "    p_aux = 1  # kW aux components\n",
    "\n",
    "    rad = row['slope'] * np.pi / 180\n",
    "\n",
    "    friction_force = (cr * mass * 9.81 * np.cos(rad)) + (0.5 * p * frontal_area * cd * (mean_speed) ** 2)\n",
    "\n",
    "    Fw = mass * 9.81 * np.sin(rad)\n",
    "    net_force = mass * (dv/t) + Fw + friction_force\n",
    "    print([(mass * (dv/t)), Fw, friction_force], '\\n')\n",
    "\n",
    "    consumption.append(net_force * row['m'] * 0.00000028)\n",
    "    \n",
    "    v_i = v_f\n",
    "    \n",
    "    \n"
   ],
   "outputs": [
    {
     "output_type": "stream",
     "name": "stdout",
     "text": [
      "nominal_speed = 8.75\n",
      "v_i = 10\n",
      "a = -2\n",
      "v_f = 8.75\n",
      "mean_speed = 9.375\n",
      "t = 1.879630539204787\n",
      "dv/t = -0.6650243087286909\n",
      "[-1042.7581160865873, 767.315840755297, 207.7568491924576] \n",
      "\n",
      "nominal_speed = 8.75\n",
      "v_i = 8.75\n",
      "a = 0\n",
      "v_f = 8.75\n",
      "mean_speed = 8.75\n",
      "t = 2.006998919172343\n",
      "dv/t = 0.0\n",
      "[0.0, 418.28161539129974, 201.82297986833973] \n",
      "\n",
      "nominal_speed = 8.75\n",
      "v_i = 8.75\n",
      "a = 0\n",
      "v_f = 8.75\n",
      "mean_speed = 8.75\n",
      "t = 1.6104550769497508e-10\n",
      "dv/t = 0.0\n",
      "[0.0, 0.0, 201.88483875] \n",
      "\n",
      "nominal_speed = 10.0\n",
      "v_i = 8.75\n",
      "a = 1.5\n",
      "v_f = 10.0\n",
      "mean_speed = 9.375\n",
      "t = 4.001419087656359\n",
      "dv/t = 0.31238917309512015\n",
      "[489.8262234131484, 185.20023365861505, 207.95410996828582] \n",
      "\n",
      "nominal_speed = 10.0\n",
      "v_i = 10.0\n",
      "a = 0\n",
      "v_f = 10.0\n",
      "mean_speed = 10.0\n",
      "t = 3.748742429816216\n",
      "dv/t = 0.0\n",
      "[0.0, -257.10515511539217, 214.37724260954474] \n",
      "\n",
      "nominal_speed = 10.0\n",
      "v_i = 10.0\n",
      "a = 0\n",
      "v_f = 10.0\n",
      "mean_speed = 10.0\n",
      "t = 3.7561621116254864\n",
      "dv/t = 0.0\n",
      "[0.0, -801.5853267556345, 214.1709782448364] \n",
      "\n",
      "nominal_speed = 10.0\n",
      "v_i = 10.0\n",
      "a = 0\n",
      "v_f = 10.0\n",
      "mean_speed = 10.0\n",
      "t = 3.7536109601215544\n",
      "dv/t = 0.0\n",
      "[0.0, -567.1687790584344, 214.28582117289773] \n",
      "\n",
      "nominal_speed = 10.0\n",
      "v_i = 10.0\n",
      "a = 0\n",
      "v_f = 10.0\n",
      "mean_speed = 10.0\n",
      "t = 2.8127500429235357e-10\n",
      "dv/t = 0.0\n",
      "[0.0, 0.0, 214.40088000000003] \n",
      "\n",
      "nominal_speed = 8.652173913043478\n",
      "v_i = 10.0\n",
      "a = -2\n",
      "v_f = 8.652173913043478\n",
      "mean_speed = 9.326086956521738\n",
      "t = 4.2096648447366265\n",
      "dv/t = -0.32017420309403444\n",
      "[-502.033150451446, 194.4668212663886, 207.4641882830931] \n",
      "\n",
      "nominal_speed = 8.652173913043478\n",
      "v_i = 8.652173913043478\n",
      "a = 0\n",
      "v_f = 8.652173913043478\n",
      "mean_speed = 8.652173913043478\n",
      "t = 4.56828247035786\n",
      "dv/t = 0.0\n",
      "[0.0, 341.61444055409703, 200.92369611521156] \n",
      "\n",
      "nominal_speed = 8.652173913043478\n",
      "v_i = 8.652173913043478\n",
      "a = 0\n",
      "v_f = 8.652173913043478\n",
      "mean_speed = 8.652173913043478\n",
      "t = 4.593008882669481\n",
      "dv/t = 0.0\n",
      "[0.0, 765.8293816740508, 200.7576518058093] \n",
      "\n",
      "nominal_speed = 8.652173913043478\n",
      "v_i = 8.652173913043478\n",
      "a = 0\n",
      "v_f = 8.652173913043478\n",
      "mean_speed = 8.652173913043478\n",
      "t = 4.584763029480534\n",
      "dv/t = 0.0\n",
      "[0.0, 657.3893985736172, 200.81221784250818] \n",
      "\n",
      "nominal_speed = 8.652173913043478\n",
      "v_i = 8.652173913043478\n",
      "a = 0\n",
      "v_f = 8.652173913043478\n",
      "mean_speed = 8.652173913043478\n",
      "t = 4.482989085945358\n",
      "dv/t = 0.0\n",
      "[0.0, 1056.5412375177664, 200.57020603552303] \n",
      "\n",
      "nominal_speed = 8.652173913043478\n",
      "v_i = 8.652173913043478\n",
      "a = 0\n",
      "v_f = 8.652173913043478\n",
      "mean_speed = 8.652173913043478\n",
      "t = 1.6286720132060715e-10\n",
      "dv/t = 0.0\n",
      "[0.0, 0.0, 200.96491719470697] \n",
      "\n",
      "nominal_speed = 6.25\n",
      "v_i = 8.652173913043478\n",
      "a = -2\n",
      "v_f = 6.25\n",
      "mean_speed = 7.451086956521739\n",
      "t = 6.0781992441147965\n",
      "dv/t = -0.3952114461152912\n",
      "[-619.6915475087766, 801.8387269929831, 190.15074556804493] \n",
      "\n",
      "nominal_speed = 6.25\n",
      "v_i = 6.25\n",
      "a = 0\n",
      "v_f = 6.25\n",
      "mean_speed = 6.25\n",
      "t = 7.227211936666573\n",
      "dv/t = 0.0\n",
      "[0.0, 1468.7734978953627, 180.34329874938078] \n",
      "\n",
      "nominal_speed = 6.25\n",
      "v_i = 6.25\n",
      "a = 0\n",
      "v_f = 6.25\n",
      "mean_speed = 6.25\n",
      "t = 7.269795677616526\n",
      "dv/t = 0.0\n",
      "[0.0, 1582.7427556428306, 180.2225903842552] \n",
      "\n",
      "nominal_speed = 6.25\n",
      "v_i = 6.25\n",
      "a = 0\n",
      "v_f = 6.25\n",
      "mean_speed = 6.25\n",
      "t = 7.0726421934067325\n",
      "dv/t = 0.0\n",
      "[0.0, 1258.069062159495, 180.54252232283517] \n",
      "\n",
      "nominal_speed = 6.25\n",
      "v_i = 6.25\n",
      "a = 0\n",
      "v_f = 6.25\n",
      "mean_speed = 6.25\n",
      "t = 7.194884844258308\n",
      "dv/t = 0.0\n",
      "[0.0, 1139.0681360649291, 180.64134413777646] \n",
      "\n",
      "nominal_speed = 6.25\n",
      "v_i = 6.25\n",
      "a = 0\n",
      "v_f = 6.25\n",
      "mean_speed = 6.25\n",
      "t = 2.2898854423174668e-10\n",
      "dv/t = 0.0\n",
      "[0.0, 0.0, 181.09006875000003] \n",
      "\n",
      "nominal_speed = 5.92\n",
      "v_i = 6.25\n",
      "a = -2\n",
      "v_f = 5.92\n",
      "mean_speed = 6.085\n",
      "t = 6.0611971901201915\n",
      "dv/t = -0.05444468966261371\n",
      "[-85.3692733909783, 1192.7787097713265, 179.42501983649854] \n",
      "\n",
      "nominal_speed = 5.92\n",
      "v_i = 5.92\n",
      "a = 0\n",
      "v_f = 5.92\n",
      "mean_speed = 5.92\n",
      "t = 6.28173845750402\n",
      "dv/t = 0.0\n",
      "[0.0, 1396.6119081671336, 178.09431412917758] \n",
      "\n",
      "nominal_speed = 5.92\n",
      "v_i = 5.92\n",
      "a = 0\n",
      "v_f = 5.92\n",
      "mean_speed = 5.92\n",
      "t = 6.208690154490216\n",
      "dv/t = 0.0\n",
      "[0.0, 1844.262180982785, 177.59196661651148] \n",
      "\n",
      "nominal_speed = 5.92\n",
      "v_i = 5.92\n",
      "a = 0\n",
      "v_f = 5.92\n",
      "mean_speed = 5.92\n",
      "t = 6.283458380777484\n",
      "dv/t = 0.0\n",
      "[0.0, 1759.572387590908, 177.6977776615758] \n",
      "\n",
      "nominal_speed = 5.92\n",
      "v_i = 5.92\n",
      "a = 0\n",
      "v_f = 5.92\n",
      "mean_speed = 5.92\n",
      "t = 2.3756534276428206e-10\n",
      "dv/t = 0.0\n",
      "[0.0, 0.0, 178.76726323199998] \n",
      "\n",
      "nominal_speed = 8.734104046242775\n",
      "v_i = 5.92\n",
      "a = 1.5\n",
      "v_f = 8.734104046242775\n",
      "mean_speed = 7.327052023121388\n",
      "t = 20.781629103412783\n",
      "dv/t = 0.13541306276997503\n",
      "[212.32768242332085, 1925.2199953152792, 188.0580063095468] \n",
      "\n",
      "nominal_speed = 8.734104046242775\n",
      "v_i = 8.734104046242775\n",
      "a = 0\n",
      "v_f = 8.734104046242775\n",
      "mean_speed = 8.734104046242775\n",
      "t = 17.318903706530968\n",
      "dv/t = 0.0\n",
      "[0.0, 1250.0539938140353, 201.18155122806868] \n",
      "\n",
      "nominal_speed = 8.734104046242775\n",
      "v_i = 8.734104046242775\n",
      "a = 0\n",
      "v_f = 8.734104046242775\n",
      "mean_speed = 8.734104046242775\n",
      "t = 17.377607347440566\n",
      "dv/t = 0.0\n",
      "[0.0, 1565.0612469909615, 200.8667861648371] \n",
      "\n",
      "nominal_speed = 8.734104046242775\n",
      "v_i = 8.734104046242775\n",
      "a = 0\n",
      "v_f = 8.734104046242775\n",
      "mean_speed = 8.734104046242775\n",
      "t = 16.296478354165494\n",
      "dv/t = 0.0\n",
      "[0.0, 2299.6419053585764, 199.8550707066743] \n",
      "\n",
      "nominal_speed = 8.734104046242775\n",
      "v_i = 8.734104046242775\n",
      "a = 0\n",
      "v_f = 8.734104046242775\n",
      "mean_speed = 8.734104046242775\n",
      "t = 13.759767330729426\n",
      "dv/t = 0.0\n",
      "[0.0, 2625.509006104773, 199.28036634320057] \n",
      "\n",
      "nominal_speed = 8.734104046242775\n",
      "v_i = 8.734104046242775\n",
      "a = 0\n",
      "v_f = 8.734104046242775\n",
      "mean_speed = 8.734104046242775\n",
      "t = 16.5902078002228\n",
      "dv/t = 0.0\n",
      "[0.0, 1311.4137685373578, 201.12580636493956] \n",
      "\n",
      "nominal_speed = 8.734104046242775\n",
      "v_i = 8.734104046242775\n",
      "a = 0\n",
      "v_f = 8.734104046242775\n",
      "mean_speed = 8.734104046242775\n",
      "t = 17.360486249650446\n",
      "dv/t = 0.0\n",
      "[0.0, 1313.2869953640113, 201.12406224128048] \n",
      "\n",
      "nominal_speed = 8.734104046242775\n",
      "v_i = 8.734104046242775\n",
      "a = 0\n",
      "v_f = 8.734104046242775\n",
      "mean_speed = 8.734104046242775\n",
      "t = 16.86927101885165\n",
      "dv/t = 0.0\n",
      "[0.0, 1075.337570087194, 201.32556428055807] \n",
      "\n",
      "nominal_speed = 8.734104046242775\n",
      "v_i = 8.734104046242775\n",
      "a = 0\n",
      "v_f = 8.734104046242775\n",
      "mean_speed = 8.734104046242775\n",
      "t = 17.20736515396191\n",
      "dv/t = 0.0\n",
      "[0.0, 2144.6875177233333, 200.1010601139848] \n",
      "\n",
      "nominal_speed = 8.734104046242775\n",
      "v_i = 8.734104046242775\n",
      "a = 0\n",
      "v_f = 8.734104046242775\n",
      "mean_speed = 8.734104046242775\n",
      "t = 16.267419584742704\n",
      "dv/t = 0.0\n",
      "[0.0, 1095.9066759277325, 201.30973980775465] \n",
      "\n",
      "nominal_speed = 8.734104046242775\n",
      "v_i = 8.734104046242775\n",
      "a = 0\n",
      "v_f = 8.734104046242775\n",
      "mean_speed = 8.734104046242775\n",
      "t = 8.05122965213509e-10\n",
      "dv/t = 0.0\n",
      "[0.0, 0.0, 201.73477024304188] \n",
      "\n",
      "nominal_speed = 7.283018867924528\n",
      "v_i = 8.734104046242775\n",
      "a = -2\n",
      "v_f = 7.283018867924528\n",
      "mean_speed = 8.008561457083651\n",
      "t = 8.090217595745477\n",
      "dv/t = -0.17936293568684122\n",
      "[-281.241083156967, 1916.471486614245, 193.8337671510041] \n",
      "\n",
      "nominal_speed = 7.283018867924528\n",
      "v_i = 7.283018867924528\n",
      "a = 0\n",
      "v_f = 7.283018867924528\n",
      "mean_speed = 7.283018867924528\n",
      "t = 8.84283032159495\n",
      "dv/t = 0.0\n",
      "[0.0, 1388.5076115702523, 188.32398035407647] \n",
      "\n",
      "nominal_speed = 7.283018867924528\n",
      "v_i = 7.283018867924528\n",
      "a = 0\n",
      "v_f = 7.283018867924528\n",
      "mean_speed = 7.283018867924528\n",
      "t = 8.861929748621446\n",
      "dv/t = 0.0\n",
      "[0.0, 2190.5125907984498, 187.31580083840564] \n",
      "\n",
      "nominal_speed = 7.283018867924528\n",
      "v_i = 7.283018867924528\n",
      "a = 0\n",
      "v_f = 7.283018867924528\n",
      "mean_speed = 7.283018867924528\n",
      "t = 8.761786209356423\n",
      "dv/t = 0.0\n",
      "[0.0, 2168.9101153351785, 187.34897678091818] \n",
      "\n",
      "nominal_speed = 7.283018867924528\n",
      "v_i = 7.283018867924528\n",
      "a = 0\n",
      "v_f = 7.283018867924528\n",
      "mean_speed = 7.283018867924528\n",
      "t = 8.945879054940583\n",
      "dv/t = 0.0\n",
      "[0.0, 2346.448866484557, 187.06635350834233] \n",
      "\n",
      "nominal_speed = 7.283018867924528\n",
      "v_i = 7.283018867924528\n",
      "a = 0\n",
      "v_f = 7.283018867924528\n",
      "mean_speed = 7.283018867924528\n",
      "t = 8.824646631573376\n",
      "dv/t = 0.0\n",
      "[0.0, 1543.6701786166977, 188.1645942531235] \n",
      "\n",
      "nominal_speed = 7.283018867924528\n",
      "v_i = 7.283018867924528\n",
      "a = 0\n",
      "v_f = 7.283018867924528\n",
      "mean_speed = 7.283018867924528\n",
      "t = 1.2139953586152428e-11\n",
      "dv/t = 0.0\n",
      "[0.0, 0.0, 188.99768549092207] \n",
      "\n",
      "nominal_speed = 7.548022598870055\n",
      "v_i = 7.283018867924528\n",
      "a = 1.5\n",
      "v_f = 7.548022598870055\n",
      "mean_speed = 7.415520733397292\n",
      "t = 3.7737329286321932\n",
      "dv/t = 0.07022323411783651\n",
      "[110.11003109676766, 56.56396981158024, 190.0806527704698] \n",
      "\n",
      "nominal_speed = 7.548022598870055\n",
      "v_i = 7.548022598870055\n",
      "a = 0\n",
      "v_f = 7.548022598870055\n",
      "mean_speed = 7.548022598870055\n",
      "t = 17.694650832909982\n",
      "dv/t = 0.0\n",
      "[0.0, 92.26826141844893, 191.1787486757413] \n",
      "\n",
      "nominal_speed = 7.548022598870055\n",
      "v_i = 7.548022598870055\n",
      "a = 0\n",
      "v_f = 7.548022598870055\n",
      "mean_speed = 7.548022598870055\n",
      "t = 17.729215661036765\n",
      "dv/t = 0.0\n",
      "[0.0, 194.251328682635, 191.1685331438921] \n",
      "\n",
      "nominal_speed = 7.548022598870055\n",
      "v_i = 7.548022598870055\n",
      "a = 0\n",
      "v_f = 7.548022598870055\n",
      "mean_speed = 7.548022598870055\n",
      "t = 17.728601404644184\n",
      "dv/t = 0.0\n",
      "[0.0, -251.38205200829435, 191.1596318913364] \n",
      "\n",
      "nominal_speed = 7.548022598870055\n",
      "v_i = 7.548022598870055\n",
      "a = 0\n",
      "v_f = 7.548022598870055\n",
      "mean_speed = 7.548022598870055\n",
      "t = 17.624759103300242\n",
      "dv/t = 0.0\n",
      "[0.0, 51.23601753657774, 191.18080718392503] \n",
      "\n",
      "nominal_speed = 7.548022598870055\n",
      "v_i = 7.548022598870055\n",
      "a = 0\n",
      "v_f = 7.548022598870055\n",
      "mean_speed = 7.548022598870055\n",
      "t = 16.9401220145083\n",
      "dv/t = 0.0\n",
      "[0.0, 556.6514625738931, 191.0733655661769] \n",
      "\n",
      "nominal_speed = 7.548022598870055\n",
      "v_i = 7.548022598870055\n",
      "a = 0\n",
      "v_f = 7.548022598870055\n",
      "mean_speed = 7.548022598870055\n",
      "t = 15.256670923334946\n",
      "dv/t = 0.0\n",
      "[0.0, -2906.491111856285, 188.20166664870902] \n",
      "\n",
      "nominal_speed = 7.548022598870055\n",
      "v_i = 7.548022598870055\n",
      "a = 0\n",
      "v_f = 7.548022598870055\n",
      "mean_speed = 7.548022598870055\n",
      "t = 15.615105480162969\n",
      "dv/t = 0.0\n",
      "[0.0, 835.5089334475889, 190.93750545245388] \n",
      "\n",
      "nominal_speed = 7.548022598870055\n",
      "v_i = 7.548022598870055\n",
      "a = 0\n",
      "v_f = 7.548022598870055\n",
      "mean_speed = 7.548022598870055\n",
      "t = 17.479501905507405\n",
      "dv/t = 0.0\n",
      "[0.0, -611.5589663595719, 191.05092549738168] \n",
      "\n",
      "nominal_speed = 7.548022598870055\n",
      "v_i = 7.548022598870055\n",
      "a = 0\n",
      "v_f = 7.548022598870055\n",
      "mean_speed = 7.548022598870055\n",
      "t = 17.749767312698857\n",
      "dv/t = 0.0\n",
      "[0.0, -782.903026945064, 190.96731005834897] \n",
      "\n",
      "nominal_speed = 7.548022598870055\n",
      "v_i = 7.548022598870055\n",
      "a = 0\n",
      "v_f = 7.548022598870055\n",
      "mean_speed = 7.548022598870055\n",
      "t = 5.600776369369432e-10\n",
      "dv/t = 0.0\n",
      "[0.0, 0.0, 191.18172490203966] \n",
      "\n",
      "nominal_speed = 7.631578947368421\n",
      "v_i = 7.548022598870055\n",
      "a = 1.5\n",
      "v_f = 7.631578947368421\n",
      "mean_speed = 7.589800773119238\n",
      "t = 4.756400255975169\n",
      "dv/t = 0.01756713985401024\n",
      "[27.545275291088057, -120.4113283659322, 191.52676372284188] \n",
      "\n",
      "nominal_speed = 7.631578947368421\n",
      "v_i = 7.631578947368421\n",
      "a = 0\n",
      "v_f = 7.631578947368421\n",
      "mean_speed = 7.631578947368421\n",
      "t = 4.748694727007286\n",
      "dv/t = 0.0\n",
      "[0.0, 337.66355634457324, 191.843627003149] \n",
      "\n",
      "nominal_speed = 7.631578947368421\n",
      "v_i = 7.631578947368421\n",
      "a = 0\n",
      "v_f = 7.631578947368421\n",
      "mean_speed = 7.631578947368421\n",
      "t = 4.7489856901954335\n",
      "dv/t = 0.0\n",
      "[0.0, 478.9275239699743, 191.80325425483483] \n",
      "\n",
      "nominal_speed = 7.631578947368421\n",
      "v_i = 7.631578947368421\n",
      "a = 0\n",
      "v_f = 7.631578947368421\n",
      "mean_speed = 7.631578947368421\n",
      "t = 4.751031744488523\n",
      "dv/t = 0.0\n",
      "[0.0, 929.166708615509, 191.58119352677932] \n",
      "\n",
      "nominal_speed = 7.631578947368421\n",
      "v_i = 7.631578947368421\n",
      "a = 0\n",
      "v_f = 7.631578947368421\n",
      "mean_speed = 7.631578947368421\n",
      "t = 0.06291090203934618\n",
      "dv/t = 0.0\n",
      "[0.0, 0.0, 191.88352171745152] \n",
      "\n"
     ]
    },
    {
     "output_type": "stream",
     "name": "stderr",
     "text": [
      "<ipython-input-87-f4cf1fc64c40>:34: RuntimeWarning:\n",
      "\n",
      "invalid value encountered in sqrt\n",
      "\n"
     ]
    }
   ],
   "metadata": {
    "scrolled": true
   }
  },
  {
   "cell_type": "code",
   "execution_count": 88,
   "source": [
    "sum(consumption)"
   ],
   "outputs": [
    {
     "output_type": "execute_result",
     "data": {
      "text/plain": [
       "1.1710641079450808"
      ]
     },
     "metadata": {},
     "execution_count": 88
    }
   ],
   "metadata": {}
  }
 ],
 "metadata": {
  "kernelspec": {
   "display_name": "Python 3",
   "language": "python",
   "name": "python3"
  },
  "language_info": {
   "codemirror_mode": {
    "name": "ipython",
    "version": 3
   },
   "file_extension": ".py",
   "mimetype": "text/x-python",
   "name": "python",
   "nbconvert_exporter": "python",
   "pygments_lexer": "ipython3",
   "version": "3.9.1"
  }
 },
 "nbformat": 4,
 "nbformat_minor": 4
}