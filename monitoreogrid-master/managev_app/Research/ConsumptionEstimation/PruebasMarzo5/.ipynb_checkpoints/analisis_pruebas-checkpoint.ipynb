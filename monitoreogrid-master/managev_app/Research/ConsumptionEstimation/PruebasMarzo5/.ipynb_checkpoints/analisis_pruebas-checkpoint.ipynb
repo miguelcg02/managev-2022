{
 "cells": [
  {
   "cell_type": "code",
   "execution_count": null,
   "metadata": {},
   "outputs": [],
   "source": []
  },
  {
   "cell_type": "code",
   "execution_count": null,
   "metadata": {
    "collapsed": true
   },
   "outputs": [],
   "source": [
    "cnx = mysql.connector.connect(user='admin', password='actuadores',\n",
    "                              host='157.230.209.3',\n",
    "                              database='monitoreodb')\n",
    "\n",
    "query = \"SELECT * from operation WHERE vehicle_id = 'FVQ731'\"\n",
    "FVQ731 = pd.read_sql_query(query, cnx, index_col='id')\n",
    "FVQ731.dropna(axis=1, how='all', inplace=True)\n",
    "FVQ731\n",
    "\n",
    "cnx = mysql.connector.connect(user='admin', password='actuadores',\n",
    "                                  host='157.230.209.3',\n",
    "                                  database='monitoreodb')\n",
    "\n",
    "print('conexión ok db')\n",
    "query = \"SELECT * from operation WHERE vehicle_id = 'FVQ731'\"\n",
    "FVQ731 = pd.read_sql_query(query, cnx, index_col='id')\n",
    "FVQ731.dropna(axis=1, how='all', inplace=True)"
   ]
  }
 ],
 "metadata": {
  "kernelspec": {
   "display_name": "Python 3",
   "language": "python",
   "name": "python3"
  },
  "language_info": {
   "codemirror_mode": {
    "name": "ipython",
    "version": 3
   },
   "file_extension": ".py",
   "mimetype": "text/x-python",
   "name": "python",
   "nbconvert_exporter": "python",
   "pygments_lexer": "ipython3",
   "version": "3.9.1"
  }
 },
 "nbformat": 4,
 "nbformat_minor": 1
}
