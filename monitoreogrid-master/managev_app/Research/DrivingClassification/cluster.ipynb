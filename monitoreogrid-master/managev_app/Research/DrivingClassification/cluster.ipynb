{
 "nbformat": 4,
 "nbformat_minor": 0,
 "metadata": {
  "colab": {
   "name": "No_supervisado.ipynb",
   "provenance": [],
   "authorship_tag": "ABX9TyNopv+eYmCagqE24gUmZI8Y"
  },
  "kernelspec": {
   "name": "python3",
   "language": "python",
   "display_name": "Python 3"
  }
 },
 "cells": [
  {
   "cell_type": "code",
   "execution_count": 1,
   "outputs": [],
   "source": [
    "import seaborn as sns\n",
    "import pandas as pd\n",
    "import numpy as np\n",
    "import category_encoders as ce\n",
    "import scipy\n",
    "import mysql.connector\n",
    "\n",
    "from sklearn.preprocessing import StandardScaler, MinMaxScaler\n",
    "import sklearn\n",
    "from sklearn.preprocessing import LabelEncoder\n",
    "from sklearn.metrics import mean_squared_error\n",
    "from sklearn.metrics import r2_score\n",
    "\n",
    "from app.Investigation.OpenStreetMaps.associate_edges_to_operation import OsmDataAdapter\n",
    "from app.Investigation.Route_segmentation.segmentation import gen_traces\n",
    "\n",
    "from sklearn.model_selection import train_test_split\n",
    "from sklearn.preprocessing import LabelEncoder\n",
    "from sklearn.decomposition import PCA\n",
    "\n",
    "import matplotlib.pyplot as plt\n",
    "from mpl_toolkits.mplot3d import Axes3D\n",
    "import plotly.express as px\n",
    "import plotly.graph_objects as go"
   ],
   "metadata": {
    "collapsed": false,
    "pycharm": {
     "name": "#%%\n"
    }
   }
  },
  {
   "cell_type": "markdown",
   "metadata": {
    "id": "jXXWZXy7OSLC"
   },
   "source": [
    "# Leyendo los datos de operación de vehículos\n",
    "\n",
    "Los datos se recogieron de dos vehículos Renault ZOE diferentes en la ciudad de Medellín, los datos contienen:\n",
    "- 448,7 km de un mismo conductor durante tres días.\n",
    "- 226 km de datos de registro de otro conductor durante dos días.  \n",
    "- Rutas predefinidas de 25 km la cual fue conducida por 12 usuarios diferentes con edades comprendidas entre los 24 y los 50 años, y diferentes géneros. \n",
    "\n",
    "Las rutas se realizaron a diferentes horas, entre las 8:00 y las 17:30, y algunas de ellas se realizaron con tráfico. \n",
    "\n",
    "Las rutas incluían todos los días de la semana, así como los fines de semana y los días festivos.\n",
    "\n",
    "El dataset original contiene mediciones instantáneas con la siguiente información:\n",
    "\n",
    "## Información sobre el vehículo:\n",
    "-'timestamp',\n",
    "-'operative_state',\n",
    "-'latitude',\n",
    "-'longitude',\n",
    "-'elevation',\n",
    "-'slope',\n",
    "-'speed', \n",
    "-'odometer', \n",
    "-'user_id', \n",
    "-'batt_temp',\n",
    "-'ext_temp',\n",
    "-'power_kw',\n",
    "-'acceleration',\n",
    "-'capacity',\n",
    "-'vehicle_id', \n",
    "-'voltage',\n",
    "-'current',\n",
    "-'throttle',\n",
    "-'regen_brake',\n",
    "-'consumption',\n",
    "-'range_est',\n",
    "-'range_ideal',\n",
    "-'range_full',\n",
    "-'energy',\n",
    "-'mass', \n",
    "-'mean_acc',\n",
    "-'run',\n",
    "-'en_pot',\n",
    "-'mean_speed',\n",
    "-'timestamp2', \n",
    " \n",
    " ### Información sobre la vía:\n",
    "-'oneway',\n",
    "-'lanes',\n",
    "-'name',\n",
    "-'highway', \n",
    "-'grade', \n",
    "-'grade_abs',\n",
    "-'bridge',\n",
    "-'tunnel',\n",
    "-'width',\n",
    "-'name_str',\n",
    "-'highway_str',\n",
    "-'kwh_km'\n",
    "\n",
    "\n",
    "A partir de éstos datos, se ha creado un nuevo dataset segmentos de rutas: features.csv, conteniendo indicadores estadísticos de los atributos de comportamiento del vehículo y su conducción, los atributos de la carretera, la tasa de consumo energético del segmento. El algoritmo de segmentación tuvo las siguientes restricciones: la longitud del segmento se fijó en 1000m. Además, cada punto del segmento debe pertenecer a la misma vía y, por tanto, el tipo de carretera y la velocidad nominal serán constantes para cada segmento.\n",
    "\n",
    "### Información sobre la conducción del vehículo:\n",
    "- 'num_acc_min', 'num_acc_fr_min', 'prom_sobrepaso_acc',\n",
    "'prom_sobrepaso_fren', 'prom_abs_acc', 'std_acc', 'num_jerk_acc_min',\n",
    "'num_jerk_freno_min', 'prom_sobrepaso_jerk_acc',\n",
    "'prom_sobrepaso_jerk_freno', 'prom_abs_jerk', 'std_jerk', 'std_power',\n",
    "'prom_abs_power', 'consumption', 'consumption_per_km',\n",
    "'num_current_min', 'num_current_fr_min', 'prom_sobrepaso_current',\n",
    "'prom_sobrepaso_current_fr', 'prom_abs_current', 'std_current',\n",
    "'std_current_std_jerk', \n",
    "'max_current', 'max_jerk', 'max_acc', 'max_power', 'min_power',\n",
    "'max_speed', 'mean_speed', 'std_speed', 'iqr_power', 'mean_soc',\n",
    "'mean_temp', 'travel_time', 'idle_time', , 'user_id',\n",
    " \n",
    "### Información sobre las características del vehículo\n",
    "- 'vehicle_id', 'mass'\n",
    "\n",
    "### Información sobre la vía:\n",
    "- 'traffic_factor', 'highway', 'slope', 'nominal_speed', 'kms', 'lights', 'highway'\n"
   ]
  },
  {
   "cell_type": "code",
   "metadata": {
    "colab": {
     "resources": {
      "http://localhost:8080/nbextensions/google.colab/files.js": {
       "data": "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",
       "ok": true,
       "headers": [
        [
         "content-type",
         "application/javascript"
        ]
       ],
       "status": 200,
       "status_text": ""
      }
     },
     "base_uri": "https://localhost:8080/",
     "height": 110
    },
    "id": "72WKOnjBlwsl",
    "executionInfo": {
     "status": "ok",
     "timestamp": 1618183689953,
     "user_tz": 300,
     "elapsed": 51914,
     "user": {
      "displayName": "Santiago Echavarría Correa",
      "photoUrl": "https://lh3.googleusercontent.com/a-/AOh14GhioPR3FCYuaWlpkCyhl06YgMjBYYUYdOp3XOTqUg=s64",
      "userId": "15052963489204723893"
     }
    },
    "outputId": "e2848654-bcfe-45c0-b3fe-42e8e4b04b2c"
   },
   "source": [
    "cnx = mysql.connector.connect(user='admin', password='actuadores',\n",
    "                              host='104.236.94.94',\n",
    "                              database='monitoreodb')\n",
    "query = \"SELECT * from operation\""
   ],
   "execution_count": 3,
   "outputs": []
  },
  {
   "cell_type": "code",
   "execution_count": 4,
   "outputs": [],
   "source": [
    "all_data = pd.read_sql_query(query, cnx, index_col='id')\n",
    "all_data.dropna(axis=1, how=\"all\", inplace=True)"
   ],
   "metadata": {
    "collapsed": false,
    "pycharm": {
     "name": "#%%\n"
    }
   }
  },
  {
   "cell_type": "code",
   "execution_count": 6,
   "outputs": [
    {
     "name": "stdout",
     "output_type": "stream",
     "text": [
      "empieza nearest_edges\n"
     ]
    },
    {
     "ename": "TypeError",
     "evalue": "get_nearest_edges_of_segments() takes 2 positional arguments but 3 were given",
     "output_type": "error",
     "traceback": [
      "\u001B[1;31m---------------------------------------------------------------------------\u001B[0m",
      "\u001B[1;31mTypeError\u001B[0m                                 Traceback (most recent call last)",
      "\u001B[1;32m<ipython-input-6-c374e7e9f657>\u001B[0m in \u001B[0;36m<module>\u001B[1;34m\u001B[0m\n\u001B[0;32m      1\u001B[0m \u001B[0mosm_adapter\u001B[0m \u001B[1;33m=\u001B[0m \u001B[0mOsmDataAdapter\u001B[0m\u001B[1;33m(\u001B[0m\u001B[1;33m)\u001B[0m\u001B[1;33m\u001B[0m\u001B[1;33m\u001B[0m\u001B[0m\n\u001B[1;32m----> 2\u001B[1;33m \u001B[0mall_data_with_osm\u001B[0m \u001B[1;33m=\u001B[0m \u001B[0mosm_adapter\u001B[0m\u001B[1;33m.\u001B[0m\u001B[0madd_osmn_attributes\u001B[0m\u001B[1;33m(\u001B[0m\u001B[0mall_data\u001B[0m\u001B[1;33m)\u001B[0m\u001B[1;33m\u001B[0m\u001B[1;33m\u001B[0m\u001B[0m\n\u001B[0m\u001B[0;32m      3\u001B[0m \u001B[1;33m\u001B[0m\u001B[0m\n\u001B[0;32m      4\u001B[0m \u001B[1;33m\u001B[0m\u001B[0m\n",
      "\u001B[1;32m~\\OneDrive - Universidad EAFIT\\Documentos\\Universidad\\Maestria\\Aplicacion\\monitoreogrid\\app\\Investigation\\OpenStreetMaps\\associate_edges_to_operation.py\u001B[0m in \u001B[0;36madd_osmn_attributes\u001B[1;34m(self, dataframe)\u001B[0m\n\u001B[0;32m     38\u001B[0m         \u001B[0mprint\u001B[0m\u001B[1;33m(\u001B[0m\u001B[1;34m\"empieza nearest_edges\"\u001B[0m\u001B[1;33m)\u001B[0m\u001B[1;33m\u001B[0m\u001B[1;33m\u001B[0m\u001B[0m\n\u001B[0;32m     39\u001B[0m         \u001B[0mnearest_edges\u001B[0m \u001B[1;33m=\u001B[0m \u001B[0mox\u001B[0m\u001B[1;33m.\u001B[0m\u001B[0mdistance\u001B[0m\u001B[1;33m.\u001B[0m\u001B[0mget_nearest_edges\u001B[0m\u001B[1;33m(\u001B[0m\u001B[0mself\u001B[0m\u001B[1;33m.\u001B[0m\u001B[0mG\u001B[0m\u001B[1;33m,\u001B[0m \u001B[0mX\u001B[0m\u001B[1;33m=\u001B[0m\u001B[0mX\u001B[0m\u001B[1;33m,\u001B[0m \u001B[0mY\u001B[0m\u001B[1;33m=\u001B[0m\u001B[0mY\u001B[0m\u001B[1;33m,\u001B[0m \u001B[0mmethod\u001B[0m\u001B[1;33m=\u001B[0m\u001B[1;34m\"balltree\"\u001B[0m\u001B[1;33m)\u001B[0m\u001B[1;33m\u001B[0m\u001B[1;33m\u001B[0m\u001B[0m\n\u001B[1;32m---> 40\u001B[1;33m         \u001B[0mlist_of_attr\u001B[0m \u001B[1;33m=\u001B[0m \u001B[0mself\u001B[0m\u001B[1;33m.\u001B[0m\u001B[0mget_nearest_edges_of_segments\u001B[0m\u001B[1;33m(\u001B[0m\u001B[0mnearest_edges\u001B[0m\u001B[1;33m)\u001B[0m\u001B[1;33m\u001B[0m\u001B[1;33m\u001B[0m\u001B[0m\n\u001B[0m\u001B[0;32m     41\u001B[0m         \u001B[0medge_df\u001B[0m \u001B[1;33m=\u001B[0m \u001B[0mpd\u001B[0m\u001B[1;33m.\u001B[0m\u001B[0mDataFrame\u001B[0m\u001B[1;33m(\u001B[0m\u001B[0mlist_of_attr\u001B[0m\u001B[1;33m)\u001B[0m\u001B[1;33m\u001B[0m\u001B[1;33m\u001B[0m\u001B[0m\n\u001B[0;32m     42\u001B[0m         df_osm = pd.concat(\n",
      "\u001B[1;31mTypeError\u001B[0m: get_nearest_edges_of_segments() takes 2 positional arguments but 3 were given"
     ]
    }
   ],
   "source": [
    "osm_adapter = OsmDataAdapter()\n",
    "all_data_with_osm = osm_adapter.add_osmn_attributes(all_data)\n"
   ],
   "metadata": {
    "collapsed": false,
    "pycharm": {
     "name": "#%%\n"
    }
   }
  },
  {
   "cell_type": "code",
   "metadata": {
    "colab": {
     "base_uri": "https://localhost:8080/",
     "height": 383
    },
    "id": "23f9uvfql90k",
    "executionInfo": {
     "status": "ok",
     "timestamp": 1618183822389,
     "user_tz": 300,
     "elapsed": 505,
     "user": {
      "displayName": "Santiago Echavarría Correa",
      "photoUrl": "https://lh3.googleusercontent.com/a-/AOh14GhioPR3FCYuaWlpkCyhl06YgMjBYYUYdOp3XOTqUg=s64",
      "userId": "15052963489204723893"
     }
    },
    "outputId": "cc2c0907-fc3b-4016-e349-3c1cf03ee0bb"
   },
   "source": [
    "segments = gen_traces(all_data)\n",
    "segments.head(5)"
   ],
   "execution_count": null,
   "outputs": []
  },
  {
   "cell_type": "code",
   "execution_count": 6,
   "outputs": [
    {
     "ename": "NameError",
     "evalue": "name 'segments' is not defined",
     "output_type": "error",
     "traceback": [
      "\u001B[1;31m---------------------------------------------------------------------------\u001B[0m",
      "\u001B[1;31mNameError\u001B[0m                                 Traceback (most recent call last)",
      "\u001B[1;32m<ipython-input-6-d6540e7bf119>\u001B[0m in \u001B[0;36m<module>\u001B[1;34m\u001B[0m\n\u001B[1;32m----> 1\u001B[1;33m \u001B[0msegments\u001B[0m\u001B[1;33m.\u001B[0m\u001B[0mto_csv\u001B[0m\u001B[1;33m(\u001B[0m\u001B[1;34m\"segments_renault.csv\"\u001B[0m\u001B[1;33m)\u001B[0m\u001B[1;33m\u001B[0m\u001B[1;33m\u001B[0m\u001B[0m\n\u001B[0m\u001B[0;32m      2\u001B[0m \u001B[1;33m\u001B[0m\u001B[0m\n\u001B[0;32m      3\u001B[0m \u001B[1;33m\u001B[0m\u001B[0m\n",
      "\u001B[1;31mNameError\u001B[0m: name 'segments' is not defined"
     ]
    }
   ],
   "source": [
    "segments.to_csv(\"segments_renault.csv\")\n"
   ],
   "metadata": {
    "collapsed": false,
    "pycharm": {
     "name": "#%%\n"
    }
   }
  },
  {
   "cell_type": "markdown",
   "metadata": {
    "id": "dyzZZZ2Q1Zt_"
   },
   "source": [
    "Para la variable categórica del tipo de vía 'higway', utilizaremos el encoder m_estimate.\n",
    "![Captura_m.PNG](data:image/png;base64,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)\n",
    " \n",
    "el cual se entrena con un modelo probabilístico basado en el efecto que tiene cada categoría sobre el otra variable numérica, que para este caso será el consumo por kilometro (kWh/km) 'consumption_per_km'.\n",
    "\n"
   ]
  },
  {
   "cell_type": "code",
   "metadata": {
    "colab": {
     "base_uri": "https://localhost:8080/"
    },
    "id": "8Y5GjOB-mPPQ",
    "executionInfo": {
     "status": "ok",
     "timestamp": 1618183830162,
     "user_tz": 300,
     "elapsed": 432,
     "user": {
      "displayName": "Santiago Echavarría Correa",
      "photoUrl": "https://lh3.googleusercontent.com/a-/AOh14GhioPR3FCYuaWlpkCyhl06YgMjBYYUYdOp3XOTqUg=s64",
      "userId": "15052963489204723893"
     }
    },
    "outputId": "f3569d70-daae-4c0a-e93f-06ff2ed449aa"
   },
   "source": [
    "encoder = ce.MEstimateEncoder(cols=['highway'], return_df=True)\n",
    "\n",
    "encoder.fit(segments[['highway']], segments['consumption_per_km'])\n",
    "X_cleaned = encoder.transform(segments[['highway']])\n",
    "X_cleaned.rename(columns={\"highway\": \"highway_enc\"}, inplace=True)\n",
    "segments['highway_enc'] = X_cleaned.highway_enc\n",
    "segments['highway_enc'].unique()"
   ],
   "execution_count": null,
   "outputs": []
  },
  {
   "cell_type": "markdown",
   "metadata": {
    "id": "iHe6DdLz7uJA"
   },
   "source": [
    "Eliminamos las variables categóricas que no se utilizarán en el modelo, asi como variables de la ruta como numero de semaforos del segmento, ya que lo que nos interesa es categorizar a los usuarios y no las rutas en este caso."
   ]
  },
  {
   "cell_type": "code",
   "metadata": {
    "colab": {
     "base_uri": "https://localhost:8080/",
     "height": 422
    },
    "id": "OEtYRkioKuIE",
    "executionInfo": {
     "status": "ok",
     "timestamp": 1618184019430,
     "user_tz": 300,
     "elapsed": 507,
     "user": {
      "displayName": "Santiago Echavarría Correa",
      "photoUrl": "https://lh3.googleusercontent.com/a-/AOh14GhioPR3FCYuaWlpkCyhl06YgMjBYYUYdOp3XOTqUg=s64",
      "userId": "15052963489204723893"
     }
    },
    "outputId": "b62f72e3-1035-4b5e-e924-a5e2e153cc20"
   },
   "source": [
    "X = segments.drop(columns=['test_id', 'user_id',\t'vehicle_id', 'end_time',\t'mass','lights',\t'end_odometer', 'slope_cat', 'consumption', 'kms'])\n",
    "X"
   ],
   "execution_count": null,
   "outputs": []
  },
  {
   "cell_type": "code",
   "metadata": {
    "colab": {
     "base_uri": "https://localhost:8080/",
     "height": 609
    },
    "id": "XxY6fJML1XYh",
    "executionInfo": {
     "status": "ok",
     "timestamp": 1618183851918,
     "user_tz": 300,
     "elapsed": 976,
     "user": {
      "displayName": "Santiago Echavarría Correa",
      "photoUrl": "https://lh3.googleusercontent.com/a-/AOh14GhioPR3FCYuaWlpkCyhl06YgMjBYYUYdOp3XOTqUg=s64",
      "userId": "15052963489204723893"
     }
    },
    "outputId": "153ac7f2-ca58-4d3b-dce5-214b269eb522"
   },
   "source": [
    "# se eliminan las variables que no son interesantes para el problema de clusterización, ya que no hacen parte de los atributos de conducción\n",
    "X = segments.drop(columns=['test_id', 'user_id',\t'vehicle_id', 'end_time',\t'mass',\t'lights',\t'end_odometer', 'slope_cat', 'consumption', 'kms', 'highway']).values\n",
    "\n",
    "# Escalamos antes de aplicar PCA\n",
    "scaler = StandardScaler()\n",
    "X_scaled = scaler.fit_transform(X)\n",
    "\n",
    "# Hacemos PCA para reducir la dimensionalidad del problema\n",
    "pca = PCA()\n",
    "pca.fit(X_scaled)\n",
    "print('The explained variances with 2 components is:', pca.explained_variance_ratio_[0:1].sum())\n",
    "n_components = 2\n",
    "\n",
    "if n_components == 2:\n",
    "    pca = PCA(n_components=2)\n",
    "    pca.fit(X_scaled)\n",
    "    X_transformed = pca.transform(X_scaled)\n",
    "    fig = plt.figure(figsize=[10, 10])\n",
    "    plt.scatter(x=X_transformed[:, 0], y=X_transformed[:, 1], s=10)\n",
    "\n",
    "elif n_components == 3:\n",
    "    pca = PCA(n_components=3)\n",
    "    pca.fit(X_scaled)\n",
    "    X_transformed = pca.transform(X_scaled)\n",
    "    fig = px.scatter_3d(x=X_transformed[:, 0], y=X_transformed[:, 1], z=X_transformed[:, 2], log_x=False, size=np.repeat([4], len(X)))\n",
    "    fig.show()"
   ],
   "execution_count": null,
   "outputs": []
  },
  {
   "cell_type": "code",
   "metadata": {
    "colab": {
     "base_uri": "https://localhost:8080/",
     "height": 353
    },
    "id": "0-06TPcRqYAw",
    "executionInfo": {
     "status": "ok",
     "timestamp": 1618183900265,
     "user_tz": 300,
     "elapsed": 39494,
     "user": {
      "displayName": "Santiago Echavarría Correa",
      "photoUrl": "https://lh3.googleusercontent.com/a-/AOh14GhioPR3FCYuaWlpkCyhl06YgMjBYYUYdOp3XOTqUg=s64",
      "userId": "15052963489204723893"
     }
    },
    "outputId": "4bd6477d-e840-4d7f-f4b4-4f9ee9ff1de0"
   },
   "source": [
    "import scipy.cluster.hierarchy as sch\n",
    "plt.figure(figsize=[10,5])\n",
    "dendrogram = sch.dendrogram(sch.linkage(X_transformed, method = 'ward'))\n",
    "\n",
    "plt.title('Dendograma')\n",
    "plt.xlabel('Segmentos')\n",
    "plt.ylabel('Distancias Euclidianas')\n",
    "plt.show()"
   ],
   "execution_count": null,
   "outputs": []
  },
  {
   "cell_type": "code",
   "metadata": {
    "id": "CqSIxjSibJ1R",
    "executionInfo": {
     "status": "ok",
     "timestamp": 1618183900964,
     "user_tz": 300,
     "elapsed": 698,
     "user": {
      "displayName": "Santiago Echavarría Correa",
      "photoUrl": "https://lh3.googleusercontent.com/a-/AOh14GhioPR3FCYuaWlpkCyhl06YgMjBYYUYdOp3XOTqUg=s64",
      "userId": "15052963489204723893"
     }
    }
   },
   "source": [
    "from sklearn.cluster import AgglomerativeClustering\n",
    "hc = AgglomerativeClustering(n_clusters = 2, \n",
    "                    affinity = 'euclidean', \n",
    "                    linkage = 'ward')\n",
    "\n",
    "y_hc = hc.fit_predict(X_transformed)"
   ],
   "execution_count": null,
   "outputs": []
  },
  {
   "cell_type": "code",
   "metadata": {
    "colab": {
     "base_uri": "https://localhost:8080/",
     "height": 567
    },
    "id": "2xZuWdPdeLc6",
    "executionInfo": {
     "status": "ok",
     "timestamp": 1618183901325,
     "user_tz": 300,
     "elapsed": 1053,
     "user": {
      "displayName": "Santiago Echavarría Correa",
      "photoUrl": "https://lh3.googleusercontent.com/a-/AOh14GhioPR3FCYuaWlpkCyhl06YgMjBYYUYdOp3XOTqUg=s64",
      "userId": "15052963489204723893"
     }
    },
    "outputId": "2a17fa35-f7a0-4785-8adf-07ebf8ef5aec"
   },
   "source": [
    "# Visualising the clusters\n",
    "plt.figure(figsize=[9,9])\n",
    "plt.scatter(X_transformed[y_hc == 0, 0], X_transformed[y_hc == 0, 1], s = 20, c = 'red', label = 'Cluster 1')\n",
    "plt.scatter(X_transformed[y_hc == 1, 0], X_transformed[y_hc == 1, 1], s = 20, c = 'blue', label = 'Cluster 2')\n",
    "plt.scatter(X_transformed[y_hc == 2, 0], X_transformed[y_hc == 2, 1], s = 20, c = 'green', label = 'Cluster 3')\n",
    "plt.scatter(X_transformed[y_hc == 3, 0], X_transformed[y_hc == 3, 1], s = 20, c = 'cyan', label = 'Cluster 4')\n",
    "plt.title('Clusters of drivers')\n",
    "plt.xlabel('Principal component 1')\n",
    "plt.ylabel('Principal component 2')\n",
    "plt.legend()\n",
    "plt.show()"
   ],
   "execution_count": null,
   "outputs": []
  },
  {
   "cell_type": "code",
   "metadata": {
    "colab": {
     "base_uri": "https://localhost:8080/",
     "height": 920
    },
    "id": "wBKg3lNLfd8Z",
    "executionInfo": {
     "status": "ok",
     "timestamp": 1618183955209,
     "user_tz": 300,
     "elapsed": 16583,
     "user": {
      "displayName": "Santiago Echavarría Correa",
      "photoUrl": "https://lh3.googleusercontent.com/a-/AOh14GhioPR3FCYuaWlpkCyhl06YgMjBYYUYdOp3XOTqUg=s64",
      "userId": "15052963489204723893"
     }
    },
    "outputId": "96c3c535-f137-4f7d-9e4e-fd8341592e47"
   },
   "source": [
    "\n",
    "segments['cluster'] = y_hc+1\n",
    "sns.pairplot(segments.sort_values(['slope']), hue='cluster', palette='Paired', vars=['max_power', 'mean_speed', 'traffic_factor','std_power',\n",
    "                                             'consumption_per_km'], kind= 'scatter')"
   ],
   "execution_count": null,
   "outputs": []
  },
  {
   "cell_type": "markdown",
   "metadata": {
    "id": "VD_QZuKSuWQS"
   },
   "source": [
    "Para éste problema de segmentación, la variable consumo por kilómetro es de grán interes ya que está directamente relacionada con el costo de operación de los vehículos. Industrias como car sharing, rentas de vehículos entre otras podrían tomas decisiones de cobro específicas a los usuarios de acuerdo con la clasificacíon donde se encuentre el ususario y por ende, sobre el costo que le está generando al empresa. Es por esto que es importante establecer una diferencia entre las medias de ámbos grupos utilizando t-tests como se muestra a continuación:"
   ]
  },
  {
   "cell_type": "code",
   "metadata": {
    "colab": {
     "base_uri": "https://localhost:8080/"
    },
    "id": "asIkF9Udvn3y",
    "executionInfo": {
     "status": "ok",
     "timestamp": 1616128387471,
     "user_tz": 300,
     "elapsed": 765,
     "user": {
      "displayName": "Santiago Echavarría Correa",
      "photoUrl": "https://lh3.googleusercontent.com/a-/AOh14GhioPR3FCYuaWlpkCyhl06YgMjBYYUYdOp3XOTqUg=s64",
      "userId": "15052963489204723893"
     }
    },
    "outputId": "db8c1007-f8cf-459b-9874-f3881a409b02"
   },
   "source": [
    "t, p = scipy.stats.ttest_ind(segments['consumption_per_km'][(segments['cluster'] == 1)],\n",
    "                             segments['consumption_per_km'][segments['cluster'] == 2 ])\n",
    "print('Consumption difference between clusters')\n",
    "print('t = ' + str(t))\n",
    "print('p-value = ' + str(p), '\\n')"
   ],
   "execution_count": null,
   "outputs": []
  },
  {
   "cell_type": "markdown",
   "metadata": {
    "id": "1bv070tlxK1M"
   },
   "source": [
    "Observamos que las medias son significativamente diferentes"
   ]
  },
  {
   "cell_type": "code",
   "metadata": {
    "colab": {
     "base_uri": "https://localhost:8080/",
     "height": 817
    },
    "id": "4QjUWa8aJyi7",
    "executionInfo": {
     "status": "ok",
     "timestamp": 1616127248833,
     "user_tz": 300,
     "elapsed": 2325,
     "user": {
      "displayName": "Santiago Echavarría Correa",
      "photoUrl": "https://lh3.googleusercontent.com/a-/AOh14GhioPR3FCYuaWlpkCyhl06YgMjBYYUYdOp3XOTqUg=s64",
      "userId": "15052963489204723893"
     }
    },
    "outputId": "0dfe43d9-f8d1-4f37-a53c-afba6303050c"
   },
   "source": [
    "# plt.figure(figsize=[9,9])\n",
    "# fig = plt.figure(figsize=[10, 10])\n",
    "# ax = Axes3D(fig)\n",
    "#fig = px.scatter_3d(segments['mean_speed'][y_hc == 0], segments['max_current'][y_hc == 0], segments['traffic_factor'][y_hc == 0]) #, color = 'red')  #, label = 'Cluster 1')\n",
    "fig = px.scatter_3d(segments, x='mean_speed', y='max_current', z='traffic_factor',color='cluster', width=800, height=800)\n",
    "# px.scatter_3d(segments['mean_speed'][y_hc == 2], segments['max_current'][y_hc == 2], segments['traffic_factor'][y_hc == 2]) #, c = 'green', label = 'Cluster 3')\n",
    "# px.scatter_3d(segments['mean_speed'][y_hc == 3], segments['max_current'][y_hc == 3], segments['traffic_factor'][y_hc == 3]) #, c = 'cyan', label = 'Cluster 4')\n",
    "# plt.title('Clusters of drivers')\n",
    "# plt.xlabel('mean_speed kmh')\n",
    "# plt.ylabel('max_current A')\n",
    "# plt.legend()\n",
    "fig.show()\n",
    "\n",
    "# fig = px.scatter_3d(x=X_transformed[:, 0], y=X_transformed[:, 1], z=X_transformed[:, 2], log_x=False, size=np.repeat([4], len(X)))\n",
    "#     fig.show()"
   ],
   "execution_count": null,
   "outputs": []
  },
  {
   "cell_type": "markdown",
   "metadata": {
    "id": "Y_AyN_eaZNPP"
   },
   "source": [
    "Evaluamos el performance del modelo medieante el coheficiente de silueta"
   ]
  },
  {
   "cell_type": "code",
   "metadata": {
    "colab": {
     "base_uri": "https://localhost:8080/",
     "height": 1000
    },
    "id": "CoA0RUfYZH9O",
    "executionInfo": {
     "status": "ok",
     "timestamp": 1616127251396,
     "user_tz": 300,
     "elapsed": 2760,
     "user": {
      "displayName": "Santiago Echavarría Correa",
      "photoUrl": "https://lh3.googleusercontent.com/a-/AOh14GhioPR3FCYuaWlpkCyhl06YgMjBYYUYdOp3XOTqUg=s64",
      "userId": "15052963489204723893"
     }
    },
    "outputId": "701d5cdb-ceed-4f34-fc23-1b8326e64e00"
   },
   "source": [
    "from sklearn.metrics import silhouette_samples, silhouette_score\n",
    "import matplotlib.cm as cm\n",
    "\n",
    "range_n_clusters = [2, 3, 4]\n",
    "\n",
    "                \n",
    "for n_clusters in range_n_clusters:\n",
    "    # Create a subplot with 1 row and 2 columns\n",
    "    fig, (ax1, ax2) = plt.subplots(1, 2)\n",
    "    fig.set_size_inches(18, 7)\n",
    "\n",
    "    # The 1st subplot is the silhouette plot\n",
    "    # The silhouette coefficient can range from -1, 1 but in this example all\n",
    "    # lie within [-0.1, 1]\n",
    "    ax1.set_xlim([-0.1, 1])\n",
    "    # The (n_clusters+1)*10 is for inserting blank space between silhouette\n",
    "    # plots of individual clusters, to demarcate them clearly.\n",
    "    ax1.set_ylim([0, len(X_transformed) + (n_clusters + 1) * 10])\n",
    "\n",
    "    # Initialize the clusterer with n_clusters value and a random generator\n",
    "    # seed of 10 for reproducibility.\n",
    "    clusterer = AgglomerativeClustering(n_clusters = n_clusters, \n",
    "                    affinity = 'euclidean', \n",
    "                    linkage = 'ward')\n",
    "    cluster_labels = clusterer.fit_predict(X_transformed)\n",
    "\n",
    "    # The silhouette_score gives the average value for all the samples.\n",
    "    # This gives a perspective into the density and separation of the formed\n",
    "    # clusters\n",
    "    silhouette_avg = silhouette_score(X_transformed, cluster_labels)\n",
    "    print(\"For n_clusters =\", n_clusters,\n",
    "          \"The average silhouette_score is :\", silhouette_avg)\n",
    "\n",
    "    # Compute the silhouette scores for each sample\n",
    "    sample_silhouette_values = silhouette_samples(X_transformed, cluster_labels)\n",
    "\n",
    "    y_lower = 10\n",
    "    for i in range(n_clusters):\n",
    "        # Aggregate the silhouette scores for samples belonging to\n",
    "        # cluster i, and sort them\n",
    "        ith_cluster_silhouette_values = \\\n",
    "            sample_silhouette_values[cluster_labels == i]\n",
    "\n",
    "        ith_cluster_silhouette_values.sort()\n",
    "\n",
    "        size_cluster_i = ith_cluster_silhouette_values.shape[0]\n",
    "        y_upper = y_lower + size_cluster_i\n",
    "\n",
    "        color = cm.nipy_spectral(float(i) / n_clusters)\n",
    "        ax1.fill_betweenx(np.arange(y_lower, y_upper),\n",
    "                          0, ith_cluster_silhouette_values,\n",
    "                          facecolor=color, edgecolor=color, alpha=0.7)\n",
    "\n",
    "        # Label the silhouette plots with their cluster numbers at the middle\n",
    "        ax1.text(-0.05, y_lower + 0.5 * size_cluster_i, str(i))\n",
    "\n",
    "        # Compute the new y_lower for next plot\n",
    "        y_lower = y_upper + 10  # 10 for the 0 samples\n",
    "\n",
    "    ax1.set_title(\"The silhouette plot for the various clusters.\")\n",
    "    ax1.set_xlabel(\"The silhouette coefficient values\")\n",
    "    ax1.set_ylabel(\"Cluster label\")\n",
    "\n",
    "    # The vertical line for average silhouette score of all the values\n",
    "    ax1.axvline(x=silhouette_avg, color=\"red\", linestyle=\"--\")\n",
    "\n",
    "    ax1.set_yticks([])  # Clear the yaxis labels / ticks\n",
    "    ax1.set_xticks([-0.1, 0, 0.2, 0.4, 0.6, 0.8, 1])\n",
    "\n",
    "    # 2nd Plot showing the actual clusters formed\n",
    "    colors = cm.nipy_spectral(cluster_labels.astype(float) / n_clusters)\n",
    "    ax2.scatter(X_transformed[:, 0], X_transformed[:, 1], marker='.', s=30, lw=0, alpha=0.7,\n",
    "                c=colors, edgecolor='k')\n",
    "\n",
    "    # # Labeling the clusters\n",
    "    # centers = clusterer.cluster_centers_\n",
    "    # # Draw white circles at cluster centers\n",
    "    # ax2.scatter(centers[:, 0], centers[:, 1], marker='o',\n",
    "    #             c=\"white\", alpha=1, s=200, edgecolor='k')\n",
    "\n",
    "    # for i, c in enumerate(centers):\n",
    "    #     ax2.scatter(c[0], c[1], marker='$%d$' % i, alpha=1,\n",
    "    #                 s=50, edgecolor='k')\n",
    "\n",
    "    ax2.set_title(\"The visualization of the clustered data.\")\n",
    "    ax2.set_xlabel(\"Feature space for the 1st feature\")\n",
    "    ax2.set_ylabel(\"Feature space for the 2nd feature\")\n",
    "\n",
    "    plt.suptitle((\"Silhouette analysis for KMeans clustering on sample data \"\n",
    "                  \"with n_clusters = %d\" % n_clusters),\n",
    "                 fontsize=14, fontweight='bold')\n",
    "\n",
    "plt.show()"
   ],
   "execution_count": null,
   "outputs": []
  }
 ]
}